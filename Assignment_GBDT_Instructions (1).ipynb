{
  "cells": [
    {
      "cell_type": "markdown",
      "metadata": {
        "id": "8wqapAXjsc24"
      },
      "source": [
        "# Assignment 9: GBDT"
      ]
    },
    {
      "cell_type": "code",
      "execution_count": 1,
      "metadata": {
        "colab": {
          "base_uri": "https://localhost:8080/",
          "height": 0
        },
        "id": "Ypebzurw7Ryh",
        "outputId": "016e5392-916d-4d34-a232-eaddf56fa279"
      },
      "outputs": [
        {
          "output_type": "stream",
          "name": "stderr",
          "text": [
            "[nltk_data] Downloading package vader_lexicon to /root/nltk_data...\n"
          ]
        }
      ],
      "source": [
        "# importing the necessary libraries \n",
        "\n",
        "%matplotlib inline\n",
        "import warnings\n",
        "warnings.filterwarnings(\"ignore\")\n",
        "\n",
        "import pandas as pd\n",
        "import numpy as np\n",
        "import math as m\n",
        "import matplotlib.pyplot as plt\n",
        "import seaborn as sns\n",
        "import nltk\n",
        "import re\n",
        "from scipy import sparse\n",
        "from sklearn.feature_extraction.text import TfidfVectorizer\n",
        "from sklearn.feature_extraction.text import CountVectorizer\n",
        "from sklearn.preprocessing import Normalizer\n",
        "from sklearn.metrics import confusion_matrix\n",
        "from sklearn.model_selection import train_test_split\n",
        "from sklearn import metrics\n",
        "from sklearn.metrics import roc_curve, auc\n",
        "from tqdm import tqdm\n",
        "\n",
        "import nltk\n",
        "nltk.download('vader_lexicon')\n",
        "from nltk.sentiment.vader import SentimentIntensityAnalyzer\n",
        "sid = SentimentIntensityAnalyzer()\n",
        "import pickle\n",
        "from prettytable import PrettyTable\n",
        "from prettytable import ALL as ALL"
      ]
    },
    {
      "cell_type": "markdown",
      "metadata": {
        "id": "8u5NhbnEsc2-"
      },
      "source": [
        "#### Response Coding: Example"
      ]
    },
    {
      "cell_type": "markdown",
      "metadata": {
        "id": "HIFWmwHKsc3A"
      },
      "source": [
        "<img src='http://i.imgur.com/TufZptV.jpg' width=700px>\n",
        "\n",
        "> The response tabel is built only on train dataset.\n",
        "> For a category which is not there in train data and present in test data, we will encode them with default values\n",
        "Ex: in our test data if have State: D then we encode it as [0.5, 0.05]"
      ]
    },
    {
      "cell_type": "code",
      "execution_count": null,
      "metadata": {
        "id": "fMjquAj26qIP"
      },
      "outputs": [],
      "source": []
    },
    {
      "cell_type": "code",
      "execution_count": null,
      "metadata": {
        "id": "2H2GsCT36qIQ"
      },
      "outputs": [],
      "source": []
    },
    {
      "cell_type": "markdown",
      "metadata": {
        "id": "3KwfGufDsc3D"
      },
      "source": [
        "<ol>\n",
        "    <li><strong>Apply GBDT on these feature sets</strong>\n",
        "        <ul>\n",
        "            <li><font color='red'>Set 1</font>: categorical(instead of one hot encoding, try <a href='https://www.appliedaicourse.com/course/applied-ai-course-online/lessons/handling-categorical-and-numerical-features/'>response coding</a>: use probability values), numerical features + project_title(TFIDF)+  preprocessed_eassay (TFIDF)+sentiment Score of eassay(check the bellow example, include all 4 values as 4 features)</li>\n",
        "            <li><font color='red'>Set 2</font>: categorical(instead of one hot encoding, try <a href='https://www.appliedaicourse.com/course/applied-ai-course-online/lessons/handling-categorical-and-numerical-features/'>response coding</a>: use probability values), numerical features + project_title(TFIDF W2V)+  preprocessed_eassay (TFIDF W2V)</li>        \n",
        "    </li>\n",
        "    <li> Here in response encoding you need to apply the <strong>laplase smoothing</strong> value for test set. Laplase smoothing means, If test point is present in test but not in train then you need to apply default 0.5 as probability value for that data point (Refer the Response Encoding Image from above cell) </li>\n",
        "    <li>Please use atleast <strong> 35k </strong> data points </li></ul>\n",
        "    <li><strong>The hyper paramter tuning (Consider any two hyper parameters)</strong>\n",
        "        <ul>\n",
        "    <li>Find the best hyper parameter which will give the maximum <a href='https://www.appliedaicourse.com/course/applied-ai-course-online/lessons/receiver-operating-characteristic-curve-roc-curve-and-auc-1/'>AUC</a> value</li>\n",
        "    <li>find the best hyper paramter using k-fold cross validation/simple cross validation data</li>\n",
        "    <li>use gridsearch cv or randomsearch cv or you can write your own for loops to do this task</li>\n",
        "        </ul>\n",
        "    </li>\n",
        "    <li>\n",
        "    <strong>Representation of results</strong>\n",
        "        <ul>\n",
        "    <li>You need to plot the performance of model both on train data and cross validation data for each hyper parameter, like shown in the figure\n",
        "    <img src='https://i.imgur.com/Gp2DQmh.jpg' width=500px> with X-axis as <strong>n_estimators</strong>, Y-axis as <strong>max_depth</strong>, and Z-axis as <strong>AUC Score</strong> , we have given the notebook which explains how to plot this 3d plot, you can find it in the same drive <i>3d_scatter_plot.ipynb</i></li>\n",
        "            <p style=\"text-align:center;font-size:30px;color:red;\"><strong>or</strong></p> <br>\n",
        "    <li>You need to plot the performance of model both on train data and cross validation data for each hyper parameter, like shown in the figure\n",
        "    <img src='https://i.imgur.com/fgN9aUP.jpg' width=300px> <a href='https://seaborn.pydata.org/generated/seaborn.heatmap.html'>seaborn heat maps</a> with rows as <strong>n_estimators</strong>, columns as <strong>max_depth</strong>, and values inside the cell representing <strong>AUC Score</strong> </li>\n",
        "    <li>You choose either of the plotting techniques out of 3d plot or heat map</li>\n",
        "    <li>Once after you found the best hyper parameter, you need to train your model with it, and find the AUC on test data and plot the ROC curve on both train and test.\n",
        "        Make sure that you are using predict_proba method to calculate AUC curves, because AUC is calcualted on class probabilities and not on class labels.\n",
        "    <img src='https://i.imgur.com/wMQDTFe.jpg' width=300px></li>\n",
        "    <li>Along with plotting ROC curve, you need to print the <a href='https://www.appliedaicourse.com/course/applied-ai-course-online/lessons/confusion-matrix-tpr-fpr-fnr-tnr-1/'>confusion matrix</a> with predicted and original labels of test data points\n",
        "    <img src='https://i.imgur.com/IdN5Ctv.png' width=300px></li>\n",
        "            </ul>\n",
        "    <br>\n",
        "    <li>You need to summarize the results at the end of the notebook, summarize it in the table format\n",
        "        <img src='http://i.imgur.com/YVpIGGE.jpg' width=400px>\n",
        "    </li>\n",
        "</ol>"
      ]
    },
    {
      "cell_type": "markdown",
      "metadata": {
        "id": "o56XGPyx6qIR"
      },
      "source": [
        "# Few Notes"
      ]
    },
    {
      "cell_type": "markdown",
      "metadata": {
        "id": "8_SBpA7C6qIS"
      },
      "source": [
        "1. Use atleast 35k data points\n",
        "2. Use classifier.Predict_proba() method instead of predict() method while calculating roc_auc scores\n",
        "3. Be sure that you are using laplase smoothing in response encoding function. Laplase smoothing means applying the default (0.5) value to test data if the test data is not present in the train set\n"
      ]
    },
    {
      "cell_type": "code",
      "execution_count": 2,
      "metadata": {
        "colab": {
          "base_uri": "https://localhost:8080/",
          "height": 0
        },
        "id": "eCgMmiWgjjMH",
        "outputId": "8ac1dc0c-6dd5-4bef-ff75-044bac4f833f"
      },
      "outputs": [
        {
          "output_type": "stream",
          "name": "stdout",
          "text": [
            "Mounted at /content/drive\n"
          ]
        }
      ],
      "source": [
        "from google.colab import drive\n",
        "drive.mount('/content/drive')"
      ]
    },
    {
      "cell_type": "code",
      "execution_count": null,
      "metadata": {
        "id": "4YhN1sUq7QR_"
      },
      "outputs": [],
      "source": []
    },
    {
      "cell_type": "markdown",
      "metadata": {
        "id": "BOyTl7oKsc3W"
      },
      "source": [
        "<h1>1. GBDT (xgboost/lightgbm) </h1>"
      ]
    },
    {
      "cell_type": "markdown",
      "metadata": {
        "id": "VWge-b2Zsc3Z"
      },
      "source": [
        "## 1.1 Loading Data"
      ]
    },
    {
      "cell_type": "code",
      "execution_count": 3,
      "metadata": {
        "id": "WDZFu6-usc3d"
      },
      "outputs": [],
      "source": [
        "import pandas\n",
        "data = pandas.read_csv('/content/drive/MyDrive/preprocessed_data (1).csv')"
      ]
    },
    {
      "cell_type": "code",
      "execution_count": 4,
      "metadata": {
        "id": "DoCybvNDsNMq"
      },
      "outputs": [],
      "source": [
        "negative = []  # created a variable name \n",
        "positive = []\n",
        "neutral = []\n",
        "compound = []\n",
        "\n",
        "# now here will add value to variables \n",
        "def update_sentiments(values):\n",
        "    negative.append(values[\"neg\"])    \n",
        "    positive.append(values[\"pos\"])\n",
        "    neutral.append(values[\"neu\"])\n",
        "    compound.append(values[\"compound\"])"
      ]
    },
    {
      "cell_type": "code",
      "execution_count": 5,
      "metadata": {
        "colab": {
          "base_uri": "https://localhost:8080/",
          "height": 0
        },
        "id": "WZ6wduCUK0oi",
        "outputId": "8766bd1c-5cc7-4be0-e649-8653007666d2"
      },
      "outputs": [
        {
          "output_type": "stream",
          "name": "stderr",
          "text": [
            "100%|██████████| 109248/109248 [02:37<00:00, 692.59it/s]\n"
          ]
        }
      ],
      "source": [
        "from tqdm import tqdm\n",
        "for essay in tqdm(data[\"essay\"]):\n",
        "    update_sentiments(sid.polarity_scores(essay))\n",
        "\n",
        " # adding new features to dataset based on  Sentiment analysis\n",
        "\n",
        "data[\"neg\"] = negative           \n",
        "data[\"pos\"] = positive\n",
        "data[\"neu\"] = neutral       \n",
        "data[\"compound\"] = compound"
      ]
    },
    {
      "cell_type": "code",
      "execution_count": 66,
      "metadata": {
        "colab": {
          "base_uri": "https://localhost:8080/",
          "height": 0
        },
        "id": "cTcTHG_OYUFT",
        "outputId": "fdceed17-e9c1-4702-e147-9e9abfdf6195"
      },
      "outputs": [
        {
          "output_type": "stream",
          "name": "stdout",
          "text": [
            "sentiment score for text features essay  {'neg': 0.038, 'neu': 0.641, 'pos': 0.321, 'compound': 0.9913}\n"
          ]
        }
      ],
      "source": [
        "import nltk\n",
        "from nltk.sentiment.vader import SentimentIntensityAnalyzer\n",
        "# import nltk\n",
        "# nltk.download('vader_lexicon')\n",
        "\n",
        "# here we are performing the sentiment analysis of test feature Essay \n",
        "sid = SentimentIntensityAnalyzer()\n",
        "\n",
        "\n",
        "sentence= essay\n",
        "text_essay = sid.polarity_scores(sentence)\n",
        "print('sentiment score for text features essay ',text_essay)"
      ]
    },
    {
      "cell_type": "code",
      "execution_count": 7,
      "metadata": {
        "colab": {
          "base_uri": "https://localhost:8080/",
          "height": 249
        },
        "id": "gbZtJ-bgCtkk",
        "outputId": "01e5fc63-02fc-47ca-856d-93966d02be35"
      },
      "outputs": [
        {
          "output_type": "execute_result",
          "data": {
            "text/plain": [
              "  school_state teacher_prefix project_grade_category  \\\n",
              "0           ca            mrs          grades_prek_2   \n",
              "\n",
              "   teacher_number_of_previously_posted_projects  project_is_approved  \\\n",
              "0                                            53                    1   \n",
              "\n",
              "  clean_categories                 clean_subcategories  \\\n",
              "0     math_science  appliedsciences health_lifescience   \n",
              "\n",
              "                                               essay   price    neg    pos  \\\n",
              "0  i fortunate enough use fairy tale stem kits cl...  725.05  0.013  0.205   \n",
              "\n",
              "     neu  compound  \n",
              "0  0.783    0.9867  "
            ],
            "text/html": [
              "\n",
              "  <div id=\"df-17f9ef4a-9d55-4696-b01f-809fc17b4c9b\">\n",
              "    <div class=\"colab-df-container\">\n",
              "      <div>\n",
              "<style scoped>\n",
              "    .dataframe tbody tr th:only-of-type {\n",
              "        vertical-align: middle;\n",
              "    }\n",
              "\n",
              "    .dataframe tbody tr th {\n",
              "        vertical-align: top;\n",
              "    }\n",
              "\n",
              "    .dataframe thead th {\n",
              "        text-align: right;\n",
              "    }\n",
              "</style>\n",
              "<table border=\"1\" class=\"dataframe\">\n",
              "  <thead>\n",
              "    <tr style=\"text-align: right;\">\n",
              "      <th></th>\n",
              "      <th>school_state</th>\n",
              "      <th>teacher_prefix</th>\n",
              "      <th>project_grade_category</th>\n",
              "      <th>teacher_number_of_previously_posted_projects</th>\n",
              "      <th>project_is_approved</th>\n",
              "      <th>clean_categories</th>\n",
              "      <th>clean_subcategories</th>\n",
              "      <th>essay</th>\n",
              "      <th>price</th>\n",
              "      <th>neg</th>\n",
              "      <th>pos</th>\n",
              "      <th>neu</th>\n",
              "      <th>compound</th>\n",
              "    </tr>\n",
              "  </thead>\n",
              "  <tbody>\n",
              "    <tr>\n",
              "      <th>0</th>\n",
              "      <td>ca</td>\n",
              "      <td>mrs</td>\n",
              "      <td>grades_prek_2</td>\n",
              "      <td>53</td>\n",
              "      <td>1</td>\n",
              "      <td>math_science</td>\n",
              "      <td>appliedsciences health_lifescience</td>\n",
              "      <td>i fortunate enough use fairy tale stem kits cl...</td>\n",
              "      <td>725.05</td>\n",
              "      <td>0.013</td>\n",
              "      <td>0.205</td>\n",
              "      <td>0.783</td>\n",
              "      <td>0.9867</td>\n",
              "    </tr>\n",
              "  </tbody>\n",
              "</table>\n",
              "</div>\n",
              "      <button class=\"colab-df-convert\" onclick=\"convertToInteractive('df-17f9ef4a-9d55-4696-b01f-809fc17b4c9b')\"\n",
              "              title=\"Convert this dataframe to an interactive table.\"\n",
              "              style=\"display:none;\">\n",
              "        \n",
              "  <svg xmlns=\"http://www.w3.org/2000/svg\" height=\"24px\"viewBox=\"0 0 24 24\"\n",
              "       width=\"24px\">\n",
              "    <path d=\"M0 0h24v24H0V0z\" fill=\"none\"/>\n",
              "    <path d=\"M18.56 5.44l.94 2.06.94-2.06 2.06-.94-2.06-.94-.94-2.06-.94 2.06-2.06.94zm-11 1L8.5 8.5l.94-2.06 2.06-.94-2.06-.94L8.5 2.5l-.94 2.06-2.06.94zm10 10l.94 2.06.94-2.06 2.06-.94-2.06-.94-.94-2.06-.94 2.06-2.06.94z\"/><path d=\"M17.41 7.96l-1.37-1.37c-.4-.4-.92-.59-1.43-.59-.52 0-1.04.2-1.43.59L10.3 9.45l-7.72 7.72c-.78.78-.78 2.05 0 2.83L4 21.41c.39.39.9.59 1.41.59.51 0 1.02-.2 1.41-.59l7.78-7.78 2.81-2.81c.8-.78.8-2.07 0-2.86zM5.41 20L4 18.59l7.72-7.72 1.47 1.35L5.41 20z\"/>\n",
              "  </svg>\n",
              "      </button>\n",
              "      \n",
              "  <style>\n",
              "    .colab-df-container {\n",
              "      display:flex;\n",
              "      flex-wrap:wrap;\n",
              "      gap: 12px;\n",
              "    }\n",
              "\n",
              "    .colab-df-convert {\n",
              "      background-color: #E8F0FE;\n",
              "      border: none;\n",
              "      border-radius: 50%;\n",
              "      cursor: pointer;\n",
              "      display: none;\n",
              "      fill: #1967D2;\n",
              "      height: 32px;\n",
              "      padding: 0 0 0 0;\n",
              "      width: 32px;\n",
              "    }\n",
              "\n",
              "    .colab-df-convert:hover {\n",
              "      background-color: #E2EBFA;\n",
              "      box-shadow: 0px 1px 2px rgba(60, 64, 67, 0.3), 0px 1px 3px 1px rgba(60, 64, 67, 0.15);\n",
              "      fill: #174EA6;\n",
              "    }\n",
              "\n",
              "    [theme=dark] .colab-df-convert {\n",
              "      background-color: #3B4455;\n",
              "      fill: #D2E3FC;\n",
              "    }\n",
              "\n",
              "    [theme=dark] .colab-df-convert:hover {\n",
              "      background-color: #434B5C;\n",
              "      box-shadow: 0px 1px 3px 1px rgba(0, 0, 0, 0.15);\n",
              "      filter: drop-shadow(0px 1px 2px rgba(0, 0, 0, 0.3));\n",
              "      fill: #FFFFFF;\n",
              "    }\n",
              "  </style>\n",
              "\n",
              "      <script>\n",
              "        const buttonEl =\n",
              "          document.querySelector('#df-17f9ef4a-9d55-4696-b01f-809fc17b4c9b button.colab-df-convert');\n",
              "        buttonEl.style.display =\n",
              "          google.colab.kernel.accessAllowed ? 'block' : 'none';\n",
              "\n",
              "        async function convertToInteractive(key) {\n",
              "          const element = document.querySelector('#df-17f9ef4a-9d55-4696-b01f-809fc17b4c9b');\n",
              "          const dataTable =\n",
              "            await google.colab.kernel.invokeFunction('convertToInteractive',\n",
              "                                                     [key], {});\n",
              "          if (!dataTable) return;\n",
              "\n",
              "          const docLinkHtml = 'Like what you see? Visit the ' +\n",
              "            '<a target=\"_blank\" href=https://colab.research.google.com/notebooks/data_table.ipynb>data table notebook</a>'\n",
              "            + ' to learn more about interactive tables.';\n",
              "          element.innerHTML = '';\n",
              "          dataTable['output_type'] = 'display_data';\n",
              "          await google.colab.output.renderOutput(dataTable, element);\n",
              "          const docLink = document.createElement('div');\n",
              "          docLink.innerHTML = docLinkHtml;\n",
              "          element.appendChild(docLink);\n",
              "        }\n",
              "      </script>\n",
              "    </div>\n",
              "  </div>\n",
              "  "
            ]
          },
          "metadata": {},
          "execution_count": 7
        }
      ],
      "source": [
        "data.head(1)"
      ]
    },
    {
      "cell_type": "markdown",
      "metadata": {
        "id": "etyv7Gi5Y3ji"
      },
      "source": [
        "# in above dataset you can see we have added the new feature based on sentiment "
      ]
    },
    {
      "cell_type": "markdown",
      "metadata": {
        "id": "6lAMFKFcsc3j"
      },
      "source": [
        "<h2>1.2 Splitting data into Train and cross validation(or test): Stratified Sampling</h2>"
      ]
    },
    {
      "cell_type": "code",
      "execution_count": null,
      "metadata": {
        "id": "ODMijuuNsc3l"
      },
      "outputs": [],
      "source": [
        "# please write all the code with proper documentation, and proper titles for each subsection\n",
        "# go through documentations and blogs before you start coding\n",
        "# first figure out what to do, and then think about how to do.\n",
        "# reading and understanding error messages will be very much helpfull in debugging your code\n",
        "# when you plot any graph make sure you use \n",
        "    # a. Title, that describes your plot, this will be very helpful to the reader\n",
        "    # b. Legends if needed\n",
        "    # c. X-axis label\n",
        "    # d. Y-axis label"
      ]
    },
    {
      "cell_type": "code",
      "execution_count": 8,
      "metadata": {
        "id": "R8FNnx82DcGJ"
      },
      "outputs": [],
      "source": [
        "#here we are declaring x,y the variable based on the feature if project is approved or not  \n",
        "\n",
        "y = data['project_is_approved'].values\n",
        "X = data.drop(['project_is_approved'], axis=1)\n"
      ]
    },
    {
      "cell_type": "code",
      "execution_count": 9,
      "metadata": {
        "id": "kjSeEcyuDh2Z"
      },
      "outputs": [],
      "source": [
        "# ref : https://stackoverflow.com/questions/29438265/stratified-train-test-split-in-scikit-learn\n",
        "\n",
        "# SPLIT THE DATA WITH STRATIFY SAMPLING\n",
        "# HERE WE HAVE USED STRATIFIED SAMPLING TO SPLIT THE DATASET \n",
        "\n",
        "from sklearn.model_selection import train_test_split                \n",
        "X_train, X_test, y_train, y_test = train_test_split(X, y, stratify=y, test_size=0.33)\n",
        "                                                    "
      ]
    },
    {
      "cell_type": "code",
      "execution_count": 10,
      "metadata": {
        "colab": {
          "base_uri": "https://localhost:8080/",
          "height": 0
        },
        "id": "8D4BcOKcD14L",
        "outputId": "99c80137-e5f0-4b0c-ce27-3f38f43f3ee2"
      },
      "outputs": [
        {
          "output_type": "stream",
          "name": "stdout",
          "text": [
            " shape of train datapoint =  73196\n",
            " shape of test datapoint =  36052\n"
          ]
        }
      ],
      "source": [
        "print(\" shape of train datapoint = \",len(X_train) ) \n",
        "\n",
        "# CHECKING THE SHAPE OF SPLITTED DATASET TRAIN AND TEST \n",
        "\n",
        "print(\" shape of test datapoint = \",len(y_test) )\n"
      ]
    },
    {
      "cell_type": "code",
      "execution_count": 11,
      "metadata": {
        "colab": {
          "base_uri": "https://localhost:8080/",
          "height": 0
        },
        "id": "qMHheJCXFddG",
        "outputId": "34f4ad6f-9f3b-4f92-8d4a-770a241f4b9d"
      },
      "outputs": [
        {
          "output_type": "execute_result",
          "data": {
            "text/plain": [
              "Index(['school_state', 'teacher_prefix', 'project_grade_category',\n",
              "       'teacher_number_of_previously_posted_projects', 'project_is_approved',\n",
              "       'clean_categories', 'clean_subcategories', 'essay', 'price', 'neg',\n",
              "       'pos', 'neu', 'compound'],\n",
              "      dtype='object')"
            ]
          },
          "metadata": {},
          "execution_count": 11
        }
      ],
      "source": [
        "# CHECKING THE COLUMNS AFTER SENTIMENT ANALYSIS \n",
        "\n",
        "data.columns\n"
      ]
    },
    {
      "cell_type": "code",
      "execution_count": null,
      "metadata": {
        "id": "1A_85jbWsc3v"
      },
      "outputs": [],
      "source": [
        "# please write all the code with proper documentation, and proper titles for each subsection\n",
        "# go through documentations and blogs before you start coding\n",
        "# first figure out what to do, and then think about how to do.\n",
        "# reading and understanding error messages will be very much helpfull in debugging your code\n",
        "# make sure you featurize train and test data separatly\n",
        "\n",
        "# when you plot any graph make sure you use \n",
        "    # a. Title, that describes your plot, this will be very helpful to the reader\n",
        "    # b. Legends if needed\n",
        "    # c. X-axis label\n",
        "    # d. Y-axis label"
      ]
    },
    {
      "cell_type": "markdown",
      "metadata": {
        "id": "9WNTxm_pEujb"
      },
      "source": [
        "# Encoding eassay \n",
        "##essay"
      ]
    },
    {
      "cell_type": "code",
      "execution_count": 12,
      "metadata": {
        "colab": {
          "base_uri": "https://localhost:8080/",
          "height": 0
        },
        "id": "m48lZRxzEsac",
        "outputId": "6dfa6b46-b17a-48c4-c7d2-c88c89a30af1"
      },
      "outputs": [
        {
          "output_type": "stream",
          "name": "stdout",
          "text": [
            "After vectorizations\n",
            "(73196, 14206) (73196,)\n",
            "(36052, 14206) (36052,)\n",
            "==>==>==>==>==>==>==>==>==>==>==>==>==>==>==>==>==>==>==>==>==>==>==>==>==>==>==>==>==>==>==>==>==>==>==>==>==>==>==>==>==>==>==>==>==>==>==>==>==>==>\n"
          ]
        }
      ],
      "source": [
        "#  HERE WE ARE INTILIZING THE TFIDF VECTORIZER SAMPLE OF DATASET 50000 AS PER INSTRUCTION \n",
        "\n",
        "tfidfvectorizer = TfidfVectorizer(min_df=10,max_features=50000)\n",
        "# FITTING THE  DATA\n",
        "text_tfidf = tfidfvectorizer.fit(X_train['essay'].values) \n",
        "# TRANSFORMING THE BOTH TRAIN AND TEST \n",
        "X_train_essay_tfidf =tfidfvectorizer.transform(X_train['essay'].values) \n",
        "X_test_essay_tfidf =tfidfvectorizer.transform(X_test['essay'].values)   # transform    \n",
        "\n",
        "print(\"After vectorizations\")\n",
        "print(X_train_essay_tfidf.shape, y_train.shape)\n",
        "print(X_test_essay_tfidf.shape, y_test.shape)\n",
        "print(\"==>\"*50)"
      ]
    },
    {
      "cell_type": "markdown",
      "metadata": {
        "id": "S3Vxxv2Hsc31"
      },
      "source": [
        "<h2>1.4 Make Data Model Ready: encoding numerical, categorical features</h2>"
      ]
    },
    {
      "cell_type": "code",
      "execution_count": null,
      "metadata": {
        "id": "RAtihVPqsc33"
      },
      "outputs": [],
      "source": [
        "# please write all the code with proper documentation, and proper titles for each subsection\n",
        "# go through documentations and blogs before you start coding \n",
        "# first figure out what to do, and then think about how to do.\n",
        "# reading and understanding error messages will be very much helpfull in debugging your code\n",
        "# make sure you featurize train and test data separatly\n",
        "\n",
        "\n",
        "# when you plot any graph make sure you use \n",
        "    # a. Title, that describes your plot, this will be very helpful to the reader\n",
        "    # b. Legends if needed\n",
        "    # c. X-axis label\n",
        "    # d. Y-axis label"
      ]
    },
    {
      "cell_type": "code",
      "execution_count": 13,
      "metadata": {
        "id": "fSr_1W4YFoxW"
      },
      "outputs": [],
      "source": [
        "import pickle\n",
        "\n",
        "with open('/content/glove_vectors (1)', 'rb') as f:\n",
        "    model = pickle.load(f)\n",
        "    glove_words =  set(model.keys())\n"
      ]
    },
    {
      "cell_type": "markdown",
      "metadata": {
        "id": "_fIOa1EjwiBd"
      },
      "source": [
        "# implementing the tfidf vectorizer "
      ]
    },
    {
      "cell_type": "code",
      "execution_count": 14,
      "metadata": {
        "id": "GdDGnjSOFvRY"
      },
      "outputs": [],
      "source": [
        "# REFER : https://scikit-learn.org/stable/modules/generated/sklearn.feature_extraction.text.TfidfVectorizer.html\n",
        "\n",
        "tfidf_model = TfidfVectorizer()\n",
        "tfidf_model.fit(X_train['essay'].values)\n",
        "# here we are intilizing the tfidf vectorizer on text feature essay \n",
        "\n",
        "dictionary = dict(zip(tfidf_model.get_feature_names(), list(tfidf_model.idf_)))\n",
        "tfidf_words = set(tfidf_model.get_feature_names())"
      ]
    },
    {
      "cell_type": "markdown",
      "metadata": {
        "id": "ovQzv0xnKwGA"
      },
      "source": [
        "#TFIDF W2V TRAIN DATA"
      ]
    },
    {
      "cell_type": "code",
      "execution_count": 15,
      "metadata": {
        "colab": {
          "base_uri": "https://localhost:8080/",
          "height": 0
        },
        "id": "rMTngt36FvUx",
        "outputId": "70631d0e-94b0-40ab-b20c-caafaf780240"
      },
      "outputs": [
        {
          "output_type": "stream",
          "name": "stderr",
          "text": [
            "100%|██████████| 73196/73196 [01:55<00:00, 635.72it/s]\n"
          ]
        },
        {
          "output_type": "stream",
          "name": "stdout",
          "text": [
            "After vectorizations\n",
            "(73196, 300) (73196,)\n",
            "====================================================================================================\n"
          ]
        }
      ],
      "source": [
        "#TFIDF W2V for train dataset\n",
        "train_tfidf_w2v_essays = [] # the tfidf-w2v for each essay is stored in this list\n",
        "\n",
        "#  PERPOSE FOR USING TQDM LIBRARY IS THAT SEE THE PROGRESS OF CODE \n",
        "for sentence in tqdm(X_train['essay']): \n",
        "\n",
        "    # CREATING THE MATRIX OF SIZE 300 USING NUMPY.ZERO \n",
        "    vector = np.zeros(300) \n",
        "\n",
        "    # HERE WE WILL INTILIZE THE VARIABLE TFIDF \n",
        "    tf_idf_weight =0; \n",
        "\n",
        "    # HERE WE SPILLITED THE WORD IN SENTENCE TO PERFORM CALCULATE THE TERM FREQUENCY \n",
        "    for word in sentence.split():\n",
        "\n",
        "      # TAKING THE WORD FROM GLOVE VECTOR FILE \n",
        "\n",
        "      # REFER : https://stackoverflow.com/questions/37793118/load-pretrained-glove-vectors-in-python\n",
        "        if (word in glove_words) and (word in tfidf_words):\n",
        "            vec = model[word] \n",
        "\n",
        "            # HERE SIMPLE EXTUTION OF FORMULA COMPUTING THE TFIDF \n",
        "            tf_idf = dictionary[word]*(sentence.count(word)/len(sentence.split())) \n",
        "# INCREMENTING THE VARIABLE VECTOR \n",
        "            vector += (vec * tf_idf) \n",
        "\n",
        "            # COMPUTING THE WEIGHTED TFIDF \n",
        "            tf_idf_weight += tf_idf\n",
        "# CHECKING THE tf_idf_weight NOT EQUAL TO 0\n",
        "    if tf_idf_weight != 0:\n",
        "        vector /= tf_idf_weight\n",
        "        # ADDINNG THE VECTOR \n",
        "    train_tfidf_w2v_essays.append(vector)\n",
        "X_train_essay_tfidf_w2v= sparse.csr_matrix(train_tfidf_w2v_essays)   # CALCULATING THE VALUE TFIDF ON TRAIN DATASET \n",
        "print(\"After vectorizations\")\n",
        "print(X_train_essay_tfidf_w2v.shape, y_train.shape)\n",
        "print(\"=\"*100)"
      ]
    },
    {
      "cell_type": "markdown",
      "metadata": {
        "id": "qhNhrv2WKxg_"
      },
      "source": [
        "#TFIDF W2V TEST DATA"
      ]
    },
    {
      "cell_type": "code",
      "execution_count": 16,
      "metadata": {
        "colab": {
          "base_uri": "https://localhost:8080/",
          "height": 0
        },
        "id": "09el1XBRFvrK",
        "outputId": "8da27308-e7ab-414c-f78b-a46a521777a4"
      },
      "outputs": [
        {
          "output_type": "stream",
          "name": "stderr",
          "text": [
            "100%|██████████| 36052/36052 [00:57<00:00, 627.85it/s]\n"
          ]
        },
        {
          "output_type": "stream",
          "name": "stdout",
          "text": [
            "After vectoring\n",
            "(36052, 300) (73196,)\n",
            "====================================================================================================\n"
          ]
        }
      ],
      "source": [
        "#TFIDF W2V for test dataset\n",
        "test_tfidf_w2v_essays = [] # the tfidf-w2v for each essay is stored in this list\n",
        "\n",
        "#  PERPOSE FOR USING TQDM LIBRARY IS THAT SEE THE PROGRESS OF CODE \n",
        "for sentence in tqdm(X_test['essay']): \n",
        "\n",
        "      # CREATING THE MATRIX OF SIZE 300 USING NUMPY.ZERO \n",
        "    vector = np.zeros(300) \n",
        "\n",
        "  # HERE WE WILL INTILIZE THE VARIABLE TFIDF \n",
        "    tf_idf_weight =0; \n",
        "\n",
        "    # HERE WE SPILLITED THE WORD IN SENTENCE TO PERFORM CALCULATE THE TERM FREQUENCY \n",
        "    for word in sentence.split():\n",
        "        if (word in glove_words) and (word in tfidf_words):\n",
        "            vec = model[word] \n",
        "\n",
        "    # HERE SIMPLE EXTUTION OF FORMULA COMPUTING THE TFIDF \n",
        "            tf_idf = dictionary[word]*(sentence.count(word)/len(sentence.split())) \n",
        "     \n",
        "        # INCREMENTING THE VARIABLE VECTOR \n",
        "            vector += (vec * tf_idf) \n",
        "\n",
        "                # COMPUTING THE WEIGHTED TFIDF \n",
        "\n",
        "            tf_idf_weight += tf_idf\n",
        "\n",
        "            # CHECKING THE tf_idf_weight NOT EQUAL TO 0\n",
        "    if tf_idf_weight != 0:\n",
        "      \n",
        "        vector /= tf_idf_weight\n",
        "    test_tfidf_w2v_essays.append(vector)\n",
        "\n",
        "     # CALCULATING THE VALUE TFIDF ON TRAIN DATASET \n",
        "X_test_essay_tfidf_w2v= sparse.csr_matrix(test_tfidf_w2v_essays)\n",
        "\n",
        "\n",
        "print(\"After vectoring\")\n",
        "print(X_test_essay_tfidf_w2v.shape, y_train.shape)\n",
        "print(\"=\"*100)"
      ]
    },
    {
      "cell_type": "markdown",
      "metadata": {
        "id": "zCbs5la-LEVa"
      },
      "source": [
        "#making the datamodel ready \n",
        "## reponse endoing \n"
      ]
    },
    {
      "cell_type": "code",
      "execution_count": 17,
      "metadata": {
        "id": "DRZ_tGrLFvuy"
      },
      "outputs": [],
      "source": [
        "# refer : https://stackoverflow.com/questions/66122577/response-coding-for-categorical-data\n",
        "# refer : https://gist.github.com/sukanta-27/1fb75d974a083883a0bd27af00032718\n",
        "\n",
        "def fit(feature):\n",
        "\n",
        "  # ADDING \" PROJECT IS APPPROVED \"FEATURE TO X_TRAIN\" \n",
        "    X_train['class_label']=y_train \n",
        "\n",
        "# COMPUTING THE VALUE OF COUNTS IN EACH FEATURE \n",
        "    count = X_train[ feature ].value_counts() \n",
        "    dict_feature = dict()\n",
        "    for i, denominator in count.items():\n",
        "        vector = []\n",
        "\n",
        "        for j in range(2):\n",
        "            compare =X_train.loc[ ( X_train['class_label'] == j ) & (X_train[feature] == i ) ]\n",
        "            vector.append( len( compare)  / denominator   )\n",
        "\n",
        "        dict_feature[i] = vector    # adding probability of each class label for a pariticular category of feature\n",
        "    return dict_feature  \n",
        "def transform(feature, df ):\n",
        "\n",
        "    dict_feature = fit(feature)\n",
        "    count = X_train[feature].value_counts()\n",
        "    f=[]\n",
        "\n",
        "    # SO NOW AS PER INSTRUCTION HERE WE ARE DOING LAPLACE SMOOTHING ADDING VALUE 0.5 \n",
        "    for cat in df[feature]:\n",
        "\n",
        "        if cat in dict( count ).keys():# transform test data with trainning probabilities\n",
        "            f.append( dict_feature[cat] )\n",
        "        else:\n",
        "            f.append([0.5, 0.05])\n",
        "    return f\n"
      ]
    },
    {
      "cell_type": "markdown",
      "metadata": {
        "id": "DBa2bQIIMMna"
      },
      "source": [
        "#Encoding Categorical Features: School State\n",
        "\n",
        "> Indented block\n",
        "\n",
        "\n"
      ]
    },
    {
      "cell_type": "code",
      "execution_count": 18,
      "metadata": {
        "colab": {
          "base_uri": "https://localhost:8080/",
          "height": 0
        },
        "id": "Vqg_cEJ1K3ut",
        "outputId": "03bdfdfe-1080-49b1-da00-f4fff498f194"
      },
      "outputs": [
        {
          "output_type": "stream",
          "name": "stdout",
          "text": [
            "after vectorization\n",
            "(73196, 2) (73196,)\n",
            "(36052, 2) (36052,)\n"
          ]
        }
      ],
      "source": [
        "X_train_state = np.array(transform('school_state',X_train))    # TRANSFORMING USING NUMPY ARRAY\n",
        "X_test_state = np.array(transform('school_state',X_test))\n",
        "print(\"after vectorization\")\n",
        "\n",
        "print(X_train_state.shape , y_train.shape )        # PRINTING  SHAPE \n",
        "print(X_test_state.shape , y_test.shape )"
      ]
    },
    {
      "cell_type": "markdown",
      "metadata": {
        "id": "InLl0Z1bOeO-"
      },
      "source": [
        "#Encoding Categorical Features: teacher_prefix"
      ]
    },
    {
      "cell_type": "code",
      "execution_count": 19,
      "metadata": {
        "colab": {
          "base_uri": "https://localhost:8080/",
          "height": 0
        },
        "id": "HWgUzCDOK3yD",
        "outputId": "2bd3fd77-75d8-49d4-8b0a-c60e0c134a00"
      },
      "outputs": [
        {
          "output_type": "stream",
          "name": "stdout",
          "text": [
            "after vectorization \n",
            "(73196, 2) (73196,)\n",
            "(36052, 2) (36052,)\n"
          ]
        }
      ],
      "source": [
        "X_train_teacher_prefix = np.array(transform('teacher_prefix',X_train))  # TRANSFORMING USING NUMPY ARRAY\n",
        "X_test_teacher_prefix = np.array(transform('teacher_prefix',X_test))\n",
        "print(\"after vectorization \")\n",
        "\n",
        "print(X_train_teacher_prefix.shape , y_train.shape )                 # PRINTING  SHAPE\n",
        "print(X_test_teacher_prefix.shape , y_test.shape )"
      ]
    },
    {
      "cell_type": "markdown",
      "metadata": {
        "id": "HFWytRwoOez8"
      },
      "source": [
        "#Encoding Categorical Features: project_grade_category"
      ]
    },
    {
      "cell_type": "code",
      "execution_count": 20,
      "metadata": {
        "colab": {
          "base_uri": "https://localhost:8080/",
          "height": 0
        },
        "id": "M9NDRLX7K31R",
        "outputId": "1b692678-ca74-4c0f-ec0e-2c7f0570b064"
      },
      "outputs": [
        {
          "output_type": "stream",
          "name": "stdout",
          "text": [
            "after vectorization \n",
            "(73196, 2) (73196,)\n",
            "(36052, 2) (36052,)\n"
          ]
        }
      ],
      "source": [
        "X_train_project_grade_category = np.array(transform('project_grade_category',X_train))   # TRANSFORMING USING NUMPY ARRAY\n",
        "X_test_project_grade_category = np.array(transform('project_grade_category',X_test))\n",
        "print(\"after vectorization \")\n",
        "\n",
        "print(X_train_project_grade_category.shape , y_train.shape )                    # PRINTING  SHAPE\n",
        "print(X_test_project_grade_category.shape , y_test.shape )"
      ]
    },
    {
      "cell_type": "markdown",
      "metadata": {
        "id": "_K9l6XfdOfhA"
      },
      "source": [
        "#Encoding Categorical Features: clean_categories"
      ]
    },
    {
      "cell_type": "code",
      "execution_count": 21,
      "metadata": {
        "colab": {
          "base_uri": "https://localhost:8080/",
          "height": 0
        },
        "id": "HAZoWgXoK34r",
        "outputId": "d05dec5a-61eb-4619-c008-319859dbc961"
      },
      "outputs": [
        {
          "output_type": "stream",
          "name": "stdout",
          "text": [
            "after vectorization \n",
            "(73196, 2) (73196,)\n",
            "(36052, 2) (36052,)\n"
          ]
        }
      ],
      "source": [
        "X_train_clean_categories = np.array(transform('clean_categories',X_train))           # TRANSFORMING USING NUMPY ARRAY\n",
        "X_test_clean_categories = np.array(transform('clean_categories',X_test))\n",
        "print(\"after vectorization \")\n",
        "\n",
        "print(X_train_clean_categories.shape , y_train.shape )\n",
        "print(X_test_clean_categories.shape , y_test.shape )                 # PRINTING  SHAPE"
      ]
    },
    {
      "cell_type": "markdown",
      "metadata": {
        "id": "xV1fPJpOOgON"
      },
      "source": [
        "#Encoding Categorical Features: clean_subcategories"
      ]
    },
    {
      "cell_type": "code",
      "execution_count": 22,
      "metadata": {
        "colab": {
          "base_uri": "https://localhost:8080/",
          "height": 0
        },
        "id": "neClkFOLKv0o",
        "outputId": "1fc7a3bb-f3f4-4341-cf36-9b8ba9b1d3fd"
      },
      "outputs": [
        {
          "output_type": "stream",
          "name": "stdout",
          "text": [
            "After vectorizations\n",
            "(73196, 2) (73196,)\n",
            "(36052, 2) (36052,)\n",
            "====================================================================================================\n"
          ]
        }
      ],
      "source": [
        "X_train_clean_subcategories = np.array(transform('clean_subcategories',X_train))           # TRANSFORMING USING NUMPY ARRAY\n",
        "X_test_clean_subcategories = np.array(transform('clean_subcategories',X_test))\n",
        "print(\"After vectorizations\")\n",
        "print(X_train_clean_subcategories.shape, y_train.shape)\n",
        "print(X_test_clean_subcategories.shape, y_test.shape)              # PRINTING  SHAPE\n",
        "print(\"=\"*100)           "
      ]
    },
    {
      "cell_type": "markdown",
      "metadata": {
        "id": "d4vhqfIxQUng"
      },
      "source": [
        "# Encoding the numerical feature \n",
        "##Encoding the numerical feature: price\n"
      ]
    },
    {
      "cell_type": "code",
      "execution_count": 23,
      "metadata": {
        "colab": {
          "base_uri": "https://localhost:8080/",
          "height": 0
        },
        "id": "L1zbMQwEOX5X",
        "outputId": "5f31834f-27d3-4692-f6e0-6efe9361d10b"
      },
      "outputs": [
        {
          "output_type": "stream",
          "name": "stdout",
          "text": [
            "After vectorizations\n",
            "(73196, 1) (73196,)\n",
            "(36052, 1) (36052,)\n",
            "====================================================================================================\n"
          ]
        }
      ],
      "source": [
        "from sklearn.preprocessing import MinMaxScaler   # USING MINMAX SCALER TO AVOID DIMENSIONAL ERROR \n",
        "price_scalar = MinMaxScaler()       # HERE WE ARE SCALLING THE FEATURE \n",
        "\n",
        "X_train_price = price_scalar.fit_transform(X_train['price'].values.reshape(-1, 1))          # USING FIT_TRANFORM TO FITTING THE DATA \n",
        "X_test_price = price_scalar.transform(X_test['price'].values.reshape(-1, 1))                                                                                                             \n",
        "print(\"After vectorizations\")           \n",
        "print(X_train_price.shape, y_train.shape)                 # PRINT THE SHAPE \n",
        "print(X_test_price.shape, y_test.shape)\n",
        "print(\"=\"*100)"
      ]
    },
    {
      "cell_type": "markdown",
      "metadata": {
        "id": "Q7Q7LKRcRGgA"
      },
      "source": [
        "#Encoding the numerical feature\n",
        "**Encoding the numerical feature: teacher_number_of_previously_posted_projects**"
      ]
    },
    {
      "cell_type": "code",
      "execution_count": 24,
      "metadata": {
        "colab": {
          "base_uri": "https://localhost:8080/",
          "height": 0
        },
        "id": "8wSIH3G3OX80",
        "outputId": "0df9d286-afa1-409f-c94a-211c8f3abb5a"
      },
      "outputs": [
        {
          "output_type": "stream",
          "name": "stdout",
          "text": [
            " after vecterazation \n",
            "(73196, 1) (73196,)\n",
            "(36052, 1) (36052,)\n"
          ]
        }
      ],
      "source": [
        "from sklearn.preprocessing import MinMaxScaler       # USING MINMAX SCALER TO AVOID DIMENSIONAL ERROR \n",
        "teacher_number_of_previously_posted_projects_scaler = MinMaxScaler()     # HERE WE ARE SCALLING THE FEATURE \n",
        "\n",
        "\n",
        " # USING FIT_TRANFORM TO FITTING THE DATA \n",
        "X_train_teacher_number_of_previously_posted_projects = teacher_number_of_previously_posted_projects_scaler.fit_transform(X_train['teacher_number_of_previously_posted_projects'].values.reshape(-1,1))\n",
        "X_test_teacher_number_of_previously_posted_projects = teacher_number_of_previously_posted_projects_scaler.transform(X_test['teacher_number_of_previously_posted_projects'].values.reshape(-1,1))\n",
        "\n",
        "print(\" after vecterazation \")\n",
        "(\"=\"*100)\n",
        "print(X_train_teacher_number_of_previously_posted_projects.shape , y_train.shape)       # PRINT THE SHAPE \n",
        "print(X_test_teacher_number_of_previously_posted_projects.shape , y_test.shape)\n",
        "\n"
      ]
    },
    {
      "cell_type": "markdown",
      "metadata": {
        "id": "u-piBBD4TBqc"
      },
      "source": [
        "#Encoding the numerical feature\n",
        "**Encoding the numerical feature: neg**"
      ]
    },
    {
      "cell_type": "code",
      "execution_count": 25,
      "metadata": {
        "colab": {
          "base_uri": "https://localhost:8080/",
          "height": 0
        },
        "id": "f0GUVA4zN9bx",
        "outputId": "13202260-47c1-48a8-ee85-c6390bc05f1e"
      },
      "outputs": [
        {
          "output_type": "stream",
          "name": "stdout",
          "text": [
            "After vectorizations\n",
            "====================================================================================================\n",
            "(73196, 1) (73196,)\n",
            "(36052, 1) (36052,)\n"
          ]
        }
      ],
      "source": [
        "from sklearn.preprocessing import MinMaxScaler         # USING MINMAX SCALER TO AVOID DIMENSIONAL ERROR \n",
        "neg_scalar = MinMaxScaler()                                          # HERE WE ARE SCALLING THE FEATURE \n",
        "\n",
        "# USING FIT_TRANFORM TO FITTING THE DATA \n",
        "X_train_neg = neg_scalar.fit_transform(X_train['neg'].values.reshape(-1, 1))\n",
        "X_test_neg = neg_scalar.transform(X_test['neg'].values.reshape(-1, 1))\n",
        "\n",
        "\n",
        "                                                                                                             \n",
        "print(\"After vectorizations\")\n",
        "print('='* 100)\n",
        "print(X_train_neg.shape, y_train.shape)  # PRINT THE SHAPE \n",
        "print(X_test_neg.shape, y_test.shape)"
      ]
    },
    {
      "cell_type": "markdown",
      "metadata": {
        "id": "axaHkj-0T6dj"
      },
      "source": [
        "#Encoding the numerical feature\n",
        "**Encoding the numerical feature: neu**"
      ]
    },
    {
      "cell_type": "code",
      "execution_count": 26,
      "metadata": {
        "colab": {
          "base_uri": "https://localhost:8080/",
          "height": 0
        },
        "id": "XVkhj2QeN9eP",
        "outputId": "c7059e27-c75f-462d-f714-3bda62101d8f"
      },
      "outputs": [
        {
          "output_type": "stream",
          "name": "stdout",
          "text": [
            " after vectorization\n",
            "(73196, 1) (73196,)\n",
            "(36052, 1) (36052,)\n"
          ]
        }
      ],
      "source": [
        "neu_scaler = MinMaxScaler()                    # USING MINMAX SCALER TO AVOID DIMENSIONAL ERROR \n",
        "\n",
        " # HERE WE ARE SCALLING THE FEATURE\n",
        "X_train_neu = neu_scaler.fit_transform(X_train['neu'].values.reshape(-1,1))\n",
        "X_test_neu = neu_scaler.transform(X_test['neu'].values.reshape(-1,1))\n",
        "\n",
        "print(\" after vectorization\")\n",
        "\n",
        "print(X_train_neu.shape , y_train.shape)     # PRINT THE SHAPE \n",
        "print(X_test_neu.shape , y_test.shape)"
      ]
    },
    {
      "cell_type": "markdown",
      "metadata": {
        "id": "S2cKhcnCVHFm"
      },
      "source": [
        "#Encoding the numerical feature\n",
        "**Encoding the numerical feature: pos**"
      ]
    },
    {
      "cell_type": "code",
      "execution_count": 27,
      "metadata": {
        "colab": {
          "base_uri": "https://localhost:8080/",
          "height": 0
        },
        "id": "cwUdMGCEN9hs",
        "outputId": "d0fafa54-2a1d-4975-ac09-61a2b1c77755"
      },
      "outputs": [
        {
          "output_type": "stream",
          "name": "stdout",
          "text": [
            " after vectorization\n",
            "(73196, 1) (73196,)\n",
            "(36052, 1) (36052,)\n"
          ]
        }
      ],
      "source": [
        "pos_scaler = MinMaxScaler()     # # USING MINMAX SCALER TO AVOID DIMENSIONAL ERROR \n",
        "\n",
        "# HERE WE ARE SCALLING THE FEATURE\n",
        "X_train_pos = pos_scaler.fit_transform(X_train['pos'].values.reshape(-1,1))\n",
        "X_test_pos = pos_scaler.transform(X_test['pos'].values.reshape(-1,1))\n",
        "\n",
        "print(\" after vectorization\")\n",
        "\n",
        "print(X_train_pos.shape , y_train.shape)           # PRINT THE SHAPE \n",
        "print(X_test_pos.shape , y_test.shape)"
      ]
    },
    {
      "cell_type": "markdown",
      "metadata": {
        "id": "0GBpacBtVYkZ"
      },
      "source": [
        "#Encoding the numerical feature\n",
        "**Encoding the numerical feature: compund**"
      ]
    },
    {
      "cell_type": "code",
      "execution_count": 28,
      "metadata": {
        "colab": {
          "base_uri": "https://localhost:8080/",
          "height": 0
        },
        "id": "8palmUpzVD_l",
        "outputId": "14e9f840-ab79-4489-cf81-20582c5f0789"
      },
      "outputs": [
        {
          "output_type": "stream",
          "name": "stdout",
          "text": [
            " after vectorization\n",
            "(73196, 1) (73196,)\n",
            "(36052, 1) (36052,)\n"
          ]
        }
      ],
      "source": [
        "compound_scaler = MinMaxScaler()             # # USING MINMAX SCALER TO AVOID DIMENSIONAL ERROR \n",
        "\n",
        "# HERE WE ARE SCALLING THE FEATURE\n",
        "X_train_compound = compound_scaler.fit_transform(X_train['compound'].values.reshape(-1,1))\n",
        "X_test_compound = compound_scaler.transform(X_test['compound'].values.reshape(-1,1))\n",
        "\n",
        "print(\" after vectorization\")\n",
        "\n",
        "print(X_train_compound.shape , y_train.shape)          # PRINT THE SHAPE \n",
        "print(X_test_compound.shape , y_test.shape)"
      ]
    },
    {
      "cell_type": "markdown",
      "metadata": {
        "id": "AEubYKDgWecA"
      },
      "source": [
        "# now we will concating the all the feature \n",
        "Set 1: categorical, numerical features + preprocessed_eassay (TFIDF)"
      ]
    },
    {
      "cell_type": "code",
      "execution_count": 29,
      "metadata": {
        "colab": {
          "base_uri": "https://localhost:8080/",
          "height": 0
        },
        "id": "cFgSVqb9VECm",
        "outputId": "95423e78-82df-43f4-ea3e-7127c2da8fe7"
      },
      "outputs": [
        {
          "output_type": "stream",
          "name": "stdout",
          "text": [
            "SHAPE OF TRAIN AND TEST AFTER STACKING\n",
            "(73196, 14221) (73196,)\n",
            "(36052, 14221) (36052,)\n",
            "====================================================================================================\n"
          ]
        }
      ],
      "source": [
        "from scipy.sparse import hstack\n",
        "\n",
        "# STACKING THE TRAIN AND TEST  FEATURE '\n",
        "\n",
        "X_train_set_1 = hstack((X_train_essay_tfidf, \n",
        "                       X_train_state,\n",
        "                       X_train_teacher_prefix,                   # STACKING THE ALL TRAIN TFIDF FEATURES \n",
        "                       X_train_project_grade_category,      \n",
        "                       X_train_price,\n",
        "                       X_train_clean_categories,\n",
        "                       X_train_clean_subcategories,\n",
        "                       X_train_teacher_number_of_previously_posted_projects,\n",
        "                       X_train_neg,\n",
        "                       X_train_pos,\n",
        "                       X_train_compound)).tocsr()\n",
        "\n",
        "\n",
        "X_test_set_one = hstack((X_test_essay_tfidf,   \n",
        "                       X_test_state,\n",
        "                       X_test_teacher_prefix,          # STACKING ALL TEST TFIDF FEATURES \n",
        "                       X_test_project_grade_category, \n",
        "                       X_test_price,\n",
        "                       X_test_clean_categories,\n",
        "                       X_test_clean_subcategories,\n",
        "                       X_test_teacher_number_of_previously_posted_projects,\n",
        "                       X_test_neg,\n",
        "                       X_test_pos,\n",
        "                       X_test_compound)).tocsr()\n",
        "\n",
        "\n",
        "# PRINTING THE SHAPE \n",
        "\n",
        "print(\"SHAPE OF TRAIN AND TEST AFTER STACKING\")\n",
        "print(X_train_set_1.shape, y_train.shape)\n",
        "print(X_test_set_one.shape, y_test.shape)\n",
        "print(\"=\"*100)\n",
        "\n",
        "\n",
        "\n",
        "\n",
        "\n",
        "\n"
      ]
    },
    {
      "cell_type": "markdown",
      "metadata": {
        "id": "T1tEO988NvJ_"
      },
      "source": [
        "#now we will concating the all the feature\n",
        "Set 1: categorical, numerical features + preprocessed_eassay (TFIDF W2V)"
      ]
    },
    {
      "cell_type": "code",
      "execution_count": 30,
      "metadata": {
        "colab": {
          "base_uri": "https://localhost:8080/",
          "height": 0
        },
        "id": "rEfBSiUhNrqc",
        "outputId": "c6391343-8d7c-4e2e-f0e3-3ed8994b1553"
      },
      "outputs": [
        {
          "output_type": "stream",
          "name": "stdout",
          "text": [
            "SHAPE OF TRAIN AND TEST AFTER STACKING\n",
            "(73196, 315) (73196,)\n",
            "(36052, 315) (36052,)\n",
            "====================================================================================================\n"
          ]
        }
      ],
      "source": [
        "from scipy.sparse import hstack\n",
        "\n",
        "# STACKING THE TRAIN AND TEST  FEATURE '\n",
        "\n",
        "X_train_set_1 = hstack((X_train_essay_tfidf_w2v, \n",
        "                       X_train_state,\n",
        "                       X_train_teacher_prefix,                    # STACKING ALL TRAIN TFIDF+W2V FEATURES\n",
        "                       X_train_project_grade_category,\n",
        "                       X_train_price,\n",
        "                       X_train_clean_categories,\n",
        "                       X_train_clean_subcategories,\n",
        "                       X_train_teacher_number_of_previously_posted_projects,\n",
        "                       X_train_neg,\n",
        "                       X_train_pos,\n",
        "                       X_train_compound)).tocsr()\n",
        "\n",
        "X_test_set_one = hstack((X_test_essay_tfidf_w2v, \n",
        "                       X_test_state,\n",
        "                       X_test_teacher_prefix,                 # STACKING ALL TEST  TFIDF+W2V FEATURES\n",
        "                       X_test_project_grade_category, \n",
        "                       X_test_price,\n",
        "                       X_test_clean_categories,\n",
        "                       X_test_clean_subcategories,\n",
        "                       X_test_teacher_number_of_previously_posted_projects,\n",
        "                       X_test_neg,\n",
        "                       X_test_pos,\n",
        "                       X_test_compound)).tocsr()\n",
        "\n",
        "\n",
        "# PRINTING THE SHAPE \n",
        "print(\"SHAPE OF TRAIN AND TEST AFTER STACKING\")\n",
        "print(X_train_set_1.shape, y_train.shape)\n",
        "print(X_test_set_one.shape, y_test.shape)\n",
        "print(\"=\"*100)"
      ]
    },
    {
      "cell_type": "markdown",
      "metadata": {
        "id": "4fyP1VbNjNOg"
      },
      "source": [
        "#GRADIENT BOOSTING CLASSIFIER USING GRID SEARCH CROSS VALIDATION (SET - 1)\n"
      ]
    },
    {
      "cell_type": "code",
      "execution_count": 31,
      "metadata": {
        "colab": {
          "base_uri": "https://localhost:8080/",
          "height": 0
        },
        "id": "O1lXYTuENr4_",
        "outputId": "0e0f6658-c375-4616-f8d1-07244538ff0e"
      },
      "outputs": [
        {
          "output_type": "execute_result",
          "data": {
            "text/plain": [
              "GridSearchCV(cv=5, estimator=GradientBoostingClassifier(), n_jobs=-1,\n",
              "             param_grid={'max_depth': [1, 2, 3, 4, 5],\n",
              "                         'n_estimators': [5, 10, 15, 20]},\n",
              "             return_train_score=True, scoring='roc_auc')"
            ]
          },
          "metadata": {},
          "execution_count": 31
        }
      ],
      "source": [
        "from sklearn.ensemble import GradientBoostingClassifier \n",
        "from sklearn.model_selection import GridSearchCV\n",
        "parameters = {\"max_depth\":[1,2,3,4,5],    # MAX DEPTH WE HAVE TAKEN 5\n",
        "              \"n_estimators\":[5,10,15,20] }   #  NUMBER OF ESTIMATORS \n",
        "\n",
        "# refer : https://scikit-learn.org/stable/modules/generated/sklearn.ensemble.GradientBoostingClassifier.html\n",
        "\n",
        "clf = GridSearchCV(GradientBoostingClassifier(), \n",
        "                   parameters,\n",
        "                   cv=5,  \n",
        "                   scoring='roc_auc',\n",
        "                   return_train_score=True,\n",
        "                   n_jobs=-1)   \n",
        "                           \n",
        "clf.fit(X_train_set_1,y_train)    # FITTING THE STACKED X_TRAIN AND Y_TRAIN INTO OUR ALGO "
      ]
    },
    {
      "cell_type": "code",
      "execution_count": 32,
      "metadata": {
        "id": "IGJnCvLKjJKH"
      },
      "outputs": [],
      "source": [
        "train_auc= clf.cv_results_['mean_train_score']\n",
        "train_auc_std= clf.cv_results_['std_train_score']\n",
        "cv_auc = clf.cv_results_['mean_test_score'] \n",
        "cv_auc_std= clf.cv_results_['std_test_score']"
      ]
    },
    {
      "cell_type": "code",
      "execution_count": 33,
      "metadata": {
        "colab": {
          "base_uri": "https://localhost:8080/",
          "height": 0
        },
        "id": "hJrlPW4ajJNm",
        "outputId": "9c4b9aa8-4539-40b1-bda0-44ded2384eff"
      },
      "outputs": [
        {
          "output_type": "stream",
          "name": "stdout",
          "text": [
            "THE BEST CLF SCORE IS :  0.6922646637225432\n",
            "BEST VALUE FOR HYPERPARAMETER :  {'max_depth': 5, 'n_estimators': 20}\n"
          ]
        }
      ],
      "source": [
        "#HERE I M TRYING TO GET THE BEST VALUE FOR ALGO  \n",
        "print('THE BEST CLF SCORE IS : ',clf.best_score_)\n",
        "\n",
        "# THE I M TRYING TO FINDOUT THAT WHAT SHOULD BE BEST VALUE FOR GBDT PARAMETERS VALUE \n",
        "print('BEST VALUE FOR HYPERPARAMETER : ',clf.best_params_)  "
      ]
    },
    {
      "cell_type": "markdown",
      "metadata": {
        "id": "qMSGcpDFu5RG"
      },
      "source": [
        "#Plotting Hyperparameter v/s Auc\n",
        "##Roc Plot Of Train And Test Data\n",
        "###Train data"
      ]
    },
    {
      "cell_type": "code",
      "execution_count": 34,
      "metadata": {
        "colab": {
          "base_uri": "https://localhost:8080/",
          "height": 498
        },
        "id": "zjcvRbCWjJQc",
        "outputId": "51431cd7-f5e6-40be-acb2-88262e695657"
      },
      "outputs": [
        {
          "output_type": "display_data",
          "data": {
            "text/plain": [
              "<Figure size 864x576 with 2 Axes>"
            ],
            "image/png": "[encoded data removed]"
          },
          "metadata": {
            "needs_background": "light"
          }
        }
      ],
      "source": [
        "# HERE WE WILL TRY TO SHOW HEAT MAP FOR \n",
        "\n",
        "# REFER : https://stackoverflow.com/questions/48791709/how-to-plot-a-heat-map-on-pivot-table-after-grid-search\n",
        "\n",
        "pvt = pd.pivot_table(pd.DataFrame(clf.cv_results_),\n",
        "    values='mean_train_score', index='param_max_depth', \n",
        "     columns='param_n_estimators') \n",
        "\n",
        " # GIVING SIZE \n",
        "plt.figure(figsize=(12,8))\n",
        "ax=sns.heatmap(pvt,annot=True,linewidths=.10)"
      ]
    },
    {
      "cell_type": "markdown",
      "metadata": {
        "id": "eDUo8AXi-UEY"
      },
      "source": [
        "# Heat map on  Test data"
      ]
    },
    {
      "cell_type": "code",
      "execution_count": 35,
      "metadata": {
        "colab": {
          "base_uri": "https://localhost:8080/",
          "height": 498
        },
        "id": "t-UuuI_KjJTn",
        "outputId": "5141a98c-f2d0-47e8-d7f8-e435eae56ede"
      },
      "outputs": [
        {
          "output_type": "display_data",
          "data": {
            "text/plain": [
              "<Figure size 864x576 with 2 Axes>"
            ],
            "image/png": "[encoded data removed]"
          },
          "metadata": {
            "needs_background": "light"
          }
        }
      ],
      "source": [
        "import pandas as pd\n",
        "\n",
        "# HERE PLOTTING HEAT MAP FOR TEST DATA \n",
        "\n",
        "\n",
        " #https://stackoverflow.com/questions/48791709/how-to-plot-a-heat-map-on-pivot-table-after-grid-search\n",
        "\n",
        "pvt = pd.pivot_table(pd.DataFrame(clf.cv_results_),\n",
        "    values='mean_test_score', index='param_max_depth', \n",
        "    columns='param_n_estimators') #https://stackoverflow.com/questions/48791709/how-to-plot-a-heat-map-on-pivot-table-after-grid-search\n",
        "\n",
        "    # GIVING SIZE TO HEATMAP\n",
        "plt.figure(figsize=(12,8))\n",
        "ax=sns.heatmap(pvt,annot=True,linewidths=.5)"
      ]
    },
    {
      "cell_type": "code",
      "execution_count": null,
      "metadata": {
        "id": "znV4sFg0jJXH"
      },
      "outputs": [],
      "source": []
    },
    {
      "cell_type": "markdown",
      "metadata": {
        "id": "K-gXm2GD-ZZr"
      },
      "source": [
        "#Roc Plot Of Train And Test Data\n",
        "\n"
      ]
    },
    {
      "cell_type": "code",
      "execution_count": 36,
      "metadata": {
        "colab": {
          "base_uri": "https://localhost:8080/",
          "height": 514
        },
        "id": "v4aTRKTZjJiA",
        "outputId": "186a911d-d173-4efd-fd03-43161b295e17"
      },
      "outputs": [
        {
          "output_type": "display_data",
          "data": {
            "text/plain": [
              "<Figure size 1152x576 with 1 Axes>"
            ],
            "image/png": "[encoded data removed]"
          },
          "metadata": {
            "needs_background": "light"
          }
        }
      ],
      "source": [
        "# REFER : https://stackoverflow.com/questions/25009284/how-to-plot-roc-curve-in-python\n",
        "\n",
        "model_set1=GradientBoostingClassifier(max_depth = clf.best_params_[\"max_depth\"], n_estimators= clf.best_params_[\"n_estimators\"])\n",
        "model_set1.fit(X_train_set_1,y_train)\n",
        "\n",
        "\n",
        "# converting train and test output into probability\n",
        "y_train_probs = clf.predict_proba(X_train_set_1)[:,1] # converting train and test output into probability\n",
        "y_test_probs= clf.predict_proba(X_test_set_one )[:,1]\n",
        "\n",
        " # storing values of fpr and tpr\n",
        "train_fpr, train_tpr, tr_thresholds = roc_curve(y_train, y_train_probs)\n",
        "test_fpr, test_tpr, te_thresholds = roc_curve(y_test, y_test_probs)\n",
        "\n",
        "\n",
        "# PLOTING THE ROC CURVE \n",
        "plt.figure(figsize=(16,8))\n",
        "plt.plot(train_fpr, train_tpr, label=\"Train AUC =\"+str(auc(train_fpr, train_tpr)))\n",
        "plt.plot(test_fpr, test_tpr, label=\"Test AUC =\"+str(auc(test_fpr, test_tpr)))\n",
        "plt.legend()\n",
        "\n",
        "# NOW WE LABEL THE PLOT X AND Y \n",
        "plt.xlabel(\"False_Positive_Rate(FPR)\")\n",
        "plt.ylabel(\"True_Positive_Rate(TPR)\") \n",
        "# TITLE OF THE CURVE IS ROC CURVE \n",
        "plt.title(\"ROC CURVE\")\n",
        "\n",
        "# DEFINING THE GRID PARAMETERS \n",
        "plt.grid(color='green',lw=0.8)"
      ]
    },
    {
      "cell_type": "markdown",
      "metadata": {
        "id": "AylII8Q7-zoq"
      },
      "source": [
        "#Confusion Matrix\n"
      ]
    },
    {
      "cell_type": "code",
      "execution_count": null,
      "metadata": {
        "id": "fKpNpilijJlL"
      },
      "outputs": [],
      "source": [
        "# REFER : https://stackoverflow.com/questions/35572000/how-can-i-plot-a-confusion-matrix\n",
        "\n",
        "def find_best_threshold(threshould, fpr, tpr):\n",
        "    Thres = threshould[np.argmax(tpr*(1-fpr))]\n",
        "\n",
        "    # (tpr*(1-fpr)) will be maximum if your fpr is very low and tpr is very high\n",
        "    print(\"the maximum value of tpr*(1-fpr)\", max(tpr*(1-fpr)), \"for threshold\", np.round(Thres,3))\n",
        "    return Thres\n",
        "\n",
        "# DEFINING THE THRESHOLD VALUE IF VALUE GREATHER THAN THRESHOLD THEN 1 AND IF ITS LESS THAN THEN ITS 0\n",
        "def predict_with_best_t(proba, threshould):\n",
        "    predictions = []\n",
        "    for i in proba:\n",
        "        if i>=threshould:\n",
        "            predictions.append(1)\n",
        "        else:\n",
        "            predictions.append(0)\n",
        "    return predictions "
      ]
    },
    {
      "cell_type": "markdown",
      "metadata": {
        "id": "cmR_M6N3-51U"
      },
      "source": [
        "#Train Data\n"
      ]
    },
    {
      "cell_type": "code",
      "execution_count": null,
      "metadata": {
        "id": "dYVD5EdHjJoj"
      },
      "outputs": [],
      "source": [
        "best_t = find_best_threshold(tr_thresholds, train_fpr, train_tpr)\n",
        "\n",
        "# PLOTTING THE CONFUSION MATRIX OF TRAIN DATA \n",
        "\n",
        "# https://stackoverflow.com/questions/35572000/how-can-i-plot-a-confusion-matrix\n",
        "cm=metrics.confusion_matrix(y_train,predict_with_best_t(y_train_probs, best_t))  # https://stackoverflow.com/questions/35572000/how-can-i-plot-a-confusion-matrix\n",
        "\n",
        "print(\"CONFUSION MATRIX OF TRAIN DATA\")\n",
        "print(\"\\n\")\n",
        "print(cm)\n",
        "sns.heatmap(cm, annot=True, fmt='d',cmap='RdGy',annot_kws = {\"size\":16})\n",
        "plt.ylabel('True Label',size=12)\n",
        "plt.xlabel('Predicted Label',size=12)\n",
        "plt.title('Train Data Confusion Matrix',size=12)"
      ]
    },
    {
      "cell_type": "markdown",
      "metadata": {
        "id": "tk-pWano_B3v"
      },
      "source": [
        "#Test Data\n"
      ]
    },
    {
      "cell_type": "code",
      "execution_count": null,
      "metadata": {
        "id": "YXFTYq9F-3V0"
      },
      "outputs": [],
      "source": [
        "best_t = find_best_threshold(te_thresholds, test_fpr, test_tpr)\n",
        "cm=metrics.confusion_matrix(y_test,predict_with_best_t(y_test_probs, best_t))\n",
        "  \n",
        "\n",
        "# PLOTTING THE CONFUSION MATRIX OF TRAIN DATA \n",
        "\n",
        "print(\"CONFUSION MATRIX OF TEST DATA\")\n",
        "print('\\n')\n",
        "print(cm)\n",
        "sns.heatmap(cm, annot=True, fmt='d',cmap='RdGy',annot_kws = {\"size\":16})\n",
        "plt.ylabel('True Label',size=12)\n",
        "plt.xlabel('Predicted Label',size=12)\n",
        "plt.title('Test Data Confusion Matrix',size=12)"
      ]
    },
    {
      "cell_type": "markdown",
      "metadata": {
        "id": "XH9dHER3_Imm"
      },
      "source": [
        "#GRADIENT BOOSTING CLASSIFIER USING GRID SEARCH CROSS VALIDATION (SET - 2)\n"
      ]
    },
    {
      "cell_type": "code",
      "execution_count": 40,
      "metadata": {
        "colab": {
          "base_uri": "https://localhost:8080/",
          "height": 0
        },
        "id": "cR69_U0_-3Y8",
        "outputId": "d243a175-536b-42c3-ef41-85b0ac10562d"
      },
      "outputs": [
        {
          "output_type": "execute_result",
          "data": {
            "text/plain": [
              "GridSearchCV(cv=5, estimator=GradientBoostingClassifier(), n_jobs=-1,\n",
              "             param_grid={'max_depth': [1, 2, 3, 4, 5],\n",
              "                         'n_estimators': [5, 10, 15, 20]},\n",
              "             return_train_score=True, scoring='roc_auc')"
            ]
          },
          "metadata": {},
          "execution_count": 40
        }
      ],
      "source": [
        "\n",
        "from sklearn.ensemble import GradientBoostingClassifier                \n",
        "from sklearn.model_selection import GridSearchCV   \n",
        "parameters = {\"max_depth\":[1,2,3,4,5],    # MAX DEPTH WE HAVE TAKEN 5\n",
        "              \"n_estimators\":[5,10,15,20] }    # number of ESTIMATERS \n",
        "\n",
        "# refer : https://scikit-learn.org/stable/modules/generated/sklearn.ensemble.GradientBoostingClassifier.html\n",
        "\n",
        "\n",
        "clf = GridSearchCV(GradientBoostingClassifier(),\n",
        "                   parameters,\n",
        "                   cv=5, \n",
        "                   scoring='roc_auc',\n",
        "                   return_train_score=True,\n",
        "                   n_jobs=-1)\n",
        "\n",
        "clf.fit(X_train_set_1,y_train)              # FITTING OUR DATA                                                                                   "
      ]
    },
    {
      "cell_type": "code",
      "execution_count": 41,
      "metadata": {
        "id": "RmskRlqq-3b6"
      },
      "outputs": [],
      "source": [
        "train_auc= clf.cv_results_['mean_train_score']\n",
        "train_auc_std= clf.cv_results_['std_train_score']\n",
        "cv_auc = clf.cv_results_['mean_test_score'] \n",
        "cv_auc_std= clf.cv_results_['std_test_score']\n"
      ]
    },
    {
      "cell_type": "code",
      "execution_count": 54,
      "metadata": {
        "colab": {
          "base_uri": "https://localhost:8080/",
          "height": 0
        },
        "id": "SGfhdpzS-3fI",
        "outputId": "d5fc89f4-c544-45f4-9bac-f625da3e88f2"
      },
      "outputs": [
        {
          "output_type": "stream",
          "name": "stdout",
          "text": [
            "THE BEST CLF SCORE IS :  0.6925556117327589\n",
            "BEST VALUE FOR HYPERPARAMETER :  {'max_depth': 5, 'n_estimators': 20}\n"
          ]
        }
      ],
      "source": [
        "#HERE I M TRYING TO GET THE BEST VALUE FOR ALGO  \n",
        "print('THE BEST CLF SCORE IS : ',clf.best_score_)\n",
        "\n",
        "# THE I M TRYING TO FINDOUT THAT WHAT SHOULD BE BEST VALUE FOR GBDT PARAMETERS VALUE \n",
        "print('BEST VALUE FOR HYPERPARAMETER : ',clf.best_params_) "
      ]
    },
    {
      "cell_type": "markdown",
      "metadata": {
        "id": "MFujaRhft26W"
      },
      "source": [
        "#Plotting Hyperparameter v/s Auc\n",
        "Train Data\n"
      ]
    },
    {
      "cell_type": "code",
      "execution_count": 56,
      "metadata": {
        "colab": {
          "base_uri": "https://localhost:8080/",
          "height": 498
        },
        "id": "QddPDBc--3il",
        "outputId": "b7848067-4648-4cd3-c42d-06ce721569de"
      },
      "outputs": [
        {
          "output_type": "display_data",
          "data": {
            "text/plain": [
              "<Figure size 864x576 with 2 Axes>"
            ],
            "image/png": "[encoded data removed]"
          },
          "metadata": {
            "needs_background": "light"
          }
        }
      ],
      "source": [
        "import pandas as pd\n",
        "\n",
        "# refer : #https://stackoverflow.com/questions/48791709/how-to-plot-a-heat-map-on-pivot-table-after-grid-search\n",
        "\n",
        "\n",
        "pvt = pd.pivot_table(pd.DataFrame(clf.cv_results_),\n",
        "    values='mean_train_score', index='param_max_depth',\n",
        "     columns='param_n_estimators') \n",
        "\n",
        "\n",
        "plt.figure(figsize=(12,8))\n",
        "ax=sns.heatmap(pvt,annot=True,linewidths=.8)"
      ]
    },
    {
      "cell_type": "markdown",
      "metadata": {
        "id": "YQyjGBknt8m7"
      },
      "source": [
        "#Cross Validation data\n"
      ]
    },
    {
      "cell_type": "code",
      "execution_count": 57,
      "metadata": {
        "colab": {
          "base_uri": "https://localhost:8080/",
          "height": 498
        },
        "id": "qqkxjdWWNr8T",
        "outputId": "d3ebfe7a-ee54-407a-bf65-9eca6cc973e2"
      },
      "outputs": [
        {
          "output_type": "display_data",
          "data": {
            "text/plain": [
              "<Figure size 864x576 with 2 Axes>"
            ],
            "image/png": "[encoded data removed]"
          },
          "metadata": {
            "needs_background": "light"
          }
        }
      ],
      "source": [
        "import pandas as pd\n",
        "\n",
        "# REFER : https://stackoverflow.com/questions/48791709/how-to-plot-a-heat-map-on-pivot-table-after-grid-search\n",
        "\n",
        "\n",
        "pvt = pd.pivot_table(pd.DataFrame(clf.cv_results_),\n",
        "    values='mean_test_score', index='param_max_depth', \n",
        "    columns='param_n_estimators')  \n",
        "\n",
        "plt.figure(figsize=(12,8))           \n",
        "ax=sns.heatmap(pvt,annot=True,linewidths=.8)"
      ]
    },
    {
      "cell_type": "markdown",
      "metadata": {
        "id": "vu0DjDdguDTp"
      },
      "source": [
        "#Roc Plot Of Train And Test Data\n",
        "\n"
      ]
    },
    {
      "cell_type": "code",
      "execution_count": 58,
      "metadata": {
        "colab": {
          "base_uri": "https://localhost:8080/",
          "height": 513
        },
        "id": "AhboVtHMt5b5",
        "outputId": "11825fab-ce8f-4098-df1a-3cf82947230e"
      },
      "outputs": [
        {
          "output_type": "display_data",
          "data": {
            "text/plain": [
              "<Figure size 864x576 with 1 Axes>"
            ],
            "image/png": "[encoded data removed]"
          },
          "metadata": {
            "needs_background": "light"
          }
        }
      ],
      "source": [
        "# refer : # REFER : https://stackoverflow.com/questions/25009284/how-to-plot-roc-curve-in-python\n",
        "\n",
        "\n",
        "model_set2=GradientBoostingClassifier(max_depth = clf.best_params_[\"max_depth\"], n_estimators= clf.best_params_[\"n_estimators\"])\n",
        "model_set2.fit(X_train_set_1,y_train)\n",
        "\n",
        "# converting train and test output into probability\n",
        "\n",
        "y_train_probs = model_set2.predict_proba(X_train_set_1)[:,1] \n",
        "y_test_probs= model_set2.predict_proba(X_test_set_one )[:,1]\n",
        "\n",
        " # storing values of fpr and tpr\n",
        "train_fpr, train_tpr, tr_thresholds = roc_curve(y_train, y_train_probs) # storing values of fpr and tpr\n",
        "test_fpr, test_tpr, te_thresholds = roc_curve(y_test, y_test_probs)\n",
        "\n",
        "# PLOTING THE ROC CURVE \n",
        "plt.figure(figsize=(12,8))\n",
        "plt.plot(train_fpr, train_tpr, label=\"Train AUC =\"+str(auc(train_fpr, train_tpr)))\n",
        "plt.plot(test_fpr, test_tpr, label=\"Test AUC =\"+str(auc(test_fpr, test_tpr)))\n",
        "plt.legend()\n",
        "\n",
        "# NOW WE LABEL THE PLOT X AND Y \n",
        "plt.xlabel(\"False Positive Rate(FPR)\")\n",
        "plt.ylabel(\"True Positive Rate(TPR)\")\n",
        "\n",
        "# TITLE OF THE CURVE IS ROC CURVE \n",
        "plt.title(\"ROC CURVE\")\n",
        "plt.grid(color='green',lw=0.8)"
      ]
    },
    {
      "cell_type": "markdown",
      "metadata": {
        "id": "2ANGamXquVxb"
      },
      "source": [
        "#Confusion Matrix\n"
      ]
    },
    {
      "cell_type": "code",
      "execution_count": null,
      "metadata": {
        "id": "a03ePuCAt5fC"
      },
      "outputs": [],
      "source": [
        "def find_best_threshold(threshould, fpr, tpr):\n",
        "    t = threshould[np.argmax(tpr*(1-fpr))]\n",
        "    # (tpr*(1-fpr)) will be maximum if your fpr is very low and tpr is very high\n",
        "    print(\"the maximum value of tpr*(1-fpr)\", max(tpr*(1-fpr)), \"for threshold\", np.round(t,3))\n",
        "    return t\n",
        "\n",
        "# DEFINING THE THRESHOLD VALUE IF VALUE GREATHER THAN THRESHOLD THEN 1 AND IF ITS LESS THAN THEN ITS 0\n",
        "def predict_with_best_t(proba, threshould):\n",
        "    predictions = []\n",
        "    for i in proba:    \n",
        "        if i>=threshould:\n",
        "            predictions.append(1)\n",
        "        else:\n",
        "            predictions.append(0)\n",
        "    return predictions"
      ]
    },
    {
      "cell_type": "markdown",
      "metadata": {
        "id": "e1SQzuuKucd2"
      },
      "source": [
        "#Train Data\n"
      ]
    },
    {
      "cell_type": "code",
      "execution_count": 62,
      "metadata": {
        "colab": {
          "base_uri": "https://localhost:8080/",
          "height": 437
        },
        "id": "EF1hGjvCt5iJ",
        "outputId": "2d055047-33c6-4793-e1f8-fd9cf0378202"
      },
      "outputs": [
        {
          "output_type": "stream",
          "name": "stdout",
          "text": [
            "the maximum value of tpr*(1-fpr) 0.46420746147631475 for threshold 0.842\n",
            "CONFUSION MATRIX OF TRAIN DATA\n",
            "\n",
            "\n",
            "==>==>==>==>==>==>==>==>==>==>==>==>==>==>==>==>==>==>==>==>==>==>==>==>==>==>==>==>==>==>==>==>==>==>==>==>==>==>==>==>==>==>==>==>==>==>==>==>==>==>\n",
            "[[ 7374  3709]\n",
            " [18777 43336]]\n"
          ]
        },
        {
          "output_type": "execute_result",
          "data": {
            "text/plain": [
              "Text(0.5, 1.0, 'Train Data Confusion Matrix')"
            ]
          },
          "metadata": {},
          "execution_count": 62
        },
        {
          "output_type": "display_data",
          "data": {
            "text/plain": [
              "<Figure size 432x288 with 2 Axes>"
            ],
            "image/png": "[encoded data removed]"
          },
          "metadata": {
            "needs_background": "light"
          }
        }
      ],
      "source": [
        "best_t = find_best_threshold(tr_thresholds, train_fpr, train_tpr)\n",
        "CONFUSION_MATRIX=metrics.confusion_matrix(y_train,predict_with_best_t(y_train_probs, best_t))  \n",
        "\n",
        "\n",
        "# REFER :  https://stackoverflow.com/questions/35572000/how-can-i-plot-a-confusion-matrix\n",
        "# REFER :  https://stackoverflow.com/questions/35572000/how-can-i-plot-a-confusion-matrix\n",
        "\n",
        "print(\"CONFUSION MATRIX OF TRAIN DATA\")\n",
        "print(\"\\n\")\n",
        "print('==>'*50)\n",
        "print(CONFUSION_MATRIX)\n",
        "sns.heatmap(CONFUSION_MATRIX, annot=True, fmt='d',cmap='RdGy',annot_kws = {\"size\":16})\n",
        "plt.ylabel('True Label',size=12)\n",
        "plt.xlabel('Predicted Label',size=12)\n",
        "plt.title('Train Data Confusion Matrix',size=12)"
      ]
    },
    {
      "cell_type": "markdown",
      "metadata": {
        "id": "UofW1MU8uka0"
      },
      "source": [
        "#Test Data\n"
      ]
    },
    {
      "cell_type": "code",
      "execution_count": 63,
      "metadata": {
        "colab": {
          "base_uri": "https://localhost:8080/",
          "height": 437
        },
        "id": "Blk3UR_PuZZx",
        "outputId": "4471d7a5-cf92-4554-9c48-6fefa692bf48"
      },
      "outputs": [
        {
          "output_type": "stream",
          "name": "stdout",
          "text": [
            "the maximum value of tpr*(1-fpr) 0.4130918329880019 for threshold 0.845\n",
            "CONFUSION MATRIX OF TEST DATA\n",
            "\n",
            "\n",
            "==>==>==>==>==>==>==>==>==>==>==>==>==>==>==>==>==>==>==>==>==>==>==>==>==>==>==>==>==>==>==>==>==>==>==>==>==>==>==>==>==>==>==>==>==>==>==>==>==>==>\n",
            "[[ 3381  2078]\n",
            " [10188 20405]]\n"
          ]
        },
        {
          "output_type": "execute_result",
          "data": {
            "text/plain": [
              "Text(0.5, 1.0, 'Test Data Confusion Matrix')"
            ]
          },
          "metadata": {},
          "execution_count": 63
        },
        {
          "output_type": "display_data",
          "data": {
            "text/plain": [
              "<Figure size 432x288 with 2 Axes>"
            ],
            "image/png": "[encoded data removed]"
          },
          "metadata": {
            "needs_background": "light"
          }
        }
      ],
      "source": [
        "# REFER : https://stackoverflow.com/questions/35572000/how-can-i-plot-a-confusion-matrix\n",
        "best_t = find_best_threshold(te_thresholds, test_fpr, test_tpr)\n",
        "confusion_matrix =metrics.confusion_matrix(y_test,predict_with_best_t(y_test_probs, best_t))\n",
        "\n",
        "\n",
        "# REFER :  https://stackoverflow.com/questions/35572000/how-can-i-plot-a-confusion-matrix\n",
        "# REFER :  https://stackoverflow.com/questions/35572000/how-can-i-plot-a-confusion-matrix\n",
        "\n",
        "print(\"CONFUSION MATRIX OF TEST DATA\")\n",
        "print('\\n')\n",
        "print('==>'*50)\n",
        "print(confusion_matrix)       \n",
        "sns.heatmap(cm, annot=True, fmt='d',cmap='RdGy',annot_kws = {\"size\":16})\n",
        "plt.ylabel('True Label',size=12) \n",
        "plt.xlabel('Predicted Label',size=12)\n",
        "plt.title('Test Data Confusion Matrix',size=12)"
      ]
    },
    {
      "cell_type": "markdown",
      "metadata": {
        "id": "bNxG2O3gurP9"
      },
      "source": [
        "#Summary\n"
      ]
    },
    {
      "cell_type": "code",
      "execution_count": 60,
      "metadata": {
        "colab": {
          "base_uri": "https://localhost:8080/",
          "height": 0
        },
        "id": "HTBgh7FCuZcM",
        "outputId": "1a2a8124-8654-4f75-a8fd-49ef07f6ecc6"
      },
      "outputs": [
        {
          "output_type": "stream",
          "name": "stdout",
          "text": [
            "+-------+------------+------------------------------+----------------------------------+----------+\n",
            "| SI.N0 | Vectorizer |            Model             |         Hyper Parameter          | Test-AUC |\n",
            "+-------+------------+------------------------------+----------------------------------+----------+\n",
            "|   1   |   TFIDF    | GRADIENT_BOOSTING_CLASSIFIER | max_depth =  5 , n_estimators=20 | 0.691597 |\n",
            "+-------+------------+------------------------------+----------------------------------+----------+\n",
            "|   2   | TFIDF W2V  | GRADIENT_BOOSTING_CLASSIFIER |  max_depth =5, n_estimators=20   | 0.691255 |\n",
            "+-------+------------+------------------------------+----------------------------------+----------+\n"
          ]
        }
      ],
      "source": [
        "# refer: https://ptable.readthedocs.io/en/latest/tutorial.html\n",
        "# http://zetcode.com/python/prettytable/\n",
        "\n",
        "# here we are using the pretty table to show our model performence \n",
        "table=PrettyTable(hrules=ALL)\n",
        "table.field_names = [ \"SI.N0\",\"Vectorizer\", \"Model\", \"Hyper Parameter\", \"Test-AUC\"]\n",
        "table.add_row([1,\"TFIDF\", \"GRADIENT_BOOSTING_CLASSIFIER\", \"max_depth =  5 , n_estimators=20\", 0.691597])\n",
        "table.add_row([2,\"TFIDF W2V\", \"GRADIENT_BOOSTING_CLASSIFIER\",\"max_depth =5, n_estimators=20\", 0.691255])\n",
        "print(table)"
      ]
    },
    {
      "cell_type": "code",
      "execution_count": null,
      "metadata": {
        "id": "JtZB5sx7uZfm"
      },
      "outputs": [],
      "source": []
    },
    {
      "cell_type": "code",
      "execution_count": null,
      "metadata": {
        "id": "ujiv8WYYt5lo"
      },
      "outputs": [],
      "source": []
    },
    {
      "cell_type": "code",
      "execution_count": null,
      "metadata": {
        "id": "p4WJm8qHNr--"
      },
      "outputs": [],
      "source": []
    },
    {
      "cell_type": "code",
      "execution_count": null,
      "metadata": {
        "id": "4XZ7EGsANsCF"
      },
      "outputs": [],
      "source": []
    }
  ],
  "metadata": {
    "colab": {
      "collapsed_sections": [],
      "provenance": []
    },
    "kernelspec": {
      "display_name": "Python 3",
      "language": "python",
      "name": "python3"
    },
    "language_info": {
      "codemirror_mode": {
        "name": "ipython",
        "version": 3
      },
      "file_extension": ".py",
      "mimetype": "text/x-python",
      "name": "python",
      "nbconvert_exporter": "python",
      "pygments_lexer": "ipython3",
      "version": "3.6.3"
    }
  },
  "nbformat": 4,
  "nbformat_minor": 0
}